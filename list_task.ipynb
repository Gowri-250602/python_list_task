{
 "cells": [
  {
   "cell_type": "code",
   "execution_count": null,
   "id": "9d290d2f-a142-45f9-9914-e033d4928610",
   "metadata": {},
   "outputs": [],
   "source": [
    "\"\"\"l=[1,22,3,44,55,6,11,1200]\n",
    "\n",
    "1. Add the number `4` at the 6th index of the list `l`.  \n",
    "2. Remove the value `44` from the list `l`.  \n",
    "3. Append the number `88` to the end of the list `l`.  \n",
    "4. Remove the value at the 2nd index of the list `l`.  \n",
    "5. Merge the list `m = [1, 2, 3, 546]` into the list `l`.\"\"\""
   ]
  },
  {
   "cell_type": "code",
   "execution_count": 5,
   "id": "8cc8db7a-42fd-468a-905e-78872c1dc8ae",
   "metadata": {},
   "outputs": [
    {
     "name": "stdin",
     "output_type": "stream",
     "text": [
      "enter a number: 1,2,4\n"
     ]
    },
    {
     "name": "stdout",
     "output_type": "stream",
     "text": [
      "['1', '2', '4']\n",
      "<class 'list'>\n"
     ]
    }
   ],
   "source": [
    "#dynamic input for a list\n",
    "inp=input(\"enter a number:\")\n",
    "inp1=inp.split(\",\")\n",
    "print(list(inp1))\n",
    "print(type(inp1))"
   ]
  },
  {
   "cell_type": "code",
   "execution_count": 10,
   "id": "5b844286-0b35-4e77-bd68-0565014ed770",
   "metadata": {},
   "outputs": [
    {
     "name": "stdin",
     "output_type": "stream",
     "text": [
      "enter a no of elements: 2\n",
      "enter a element 3\n",
      "enter a element 4\n"
     ]
    },
    {
     "name": "stdout",
     "output_type": "stream",
     "text": [
      "[3, 4]\n",
      "<class 'list'>\n"
     ]
    }
   ],
   "source": [
    "l=[]\n",
    "a=int(input(\"enter a no of elements:\"))\n",
    "for i in range (a):\n",
    "    inp=int(input(\"enter a element\"))\n",
    "    l.append(inp)\n",
    "print(l)\n",
    "print(type(l))\n",
    "        \n",
    "    \n",
    " "
   ]
  },
  {
   "cell_type": "code",
   "execution_count": 16,
   "id": "8de5d2c4-79ca-4a69-ac69-8791f33f0d45",
   "metadata": {},
   "outputs": [
    {
     "name": "stdout",
     "output_type": "stream",
     "text": [
      "[1, 22, 3, 44, 55, 6, 4, 11, 1200]\n"
     ]
    }
   ],
   "source": [
    "#Add the number `4` at the 6th index of the list `l`.  \n",
    "l=[1,22,3,44,55,6,11,1200]\n",
    "l.insert(6,4)\n",
    "print(l)"
   ]
  },
  {
   "cell_type": "code",
   "execution_count": 17,
   "id": "d7b45b8b-ebea-4e39-ae88-793f6b3c3cd6",
   "metadata": {},
   "outputs": [
    {
     "data": {
      "text/plain": [
       "[1, 22, 3, 55, 6, 11, 1200]"
      ]
     },
     "execution_count": 17,
     "metadata": {},
     "output_type": "execute_result"
    }
   ],
   "source": [
    "#2. Remove the value `44` from the list `l`. \n",
    "l=[1,22,3,44,55,6,11,1200]\n",
    "l.remove(44)\n",
    "l\n"
   ]
  },
  {
   "cell_type": "code",
   "execution_count": 18,
   "id": "2b143b63-6067-40a7-847f-f633cb65474d",
   "metadata": {},
   "outputs": [
    {
     "data": {
      "text/plain": [
       "[1, 22, 3, 44, 55, 6, 11, 1200, 88]"
      ]
     },
     "execution_count": 18,
     "metadata": {},
     "output_type": "execute_result"
    }
   ],
   "source": [
    "#Append the number `88` to the end of the list `l`.  \n",
    "l=[1,22,3,44,55,6,11,1200]\n",
    "l.append(88)\n",
    "l\n"
   ]
  },
  {
   "cell_type": "code",
   "execution_count": 19,
   "id": "11eb8ae9-cdfd-4cd3-a8fa-ebc060de09e6",
   "metadata": {},
   "outputs": [
    {
     "data": {
      "text/plain": [
       "[1, 22, 44, 55, 6, 11, 1200]"
      ]
     },
     "execution_count": 19,
     "metadata": {},
     "output_type": "execute_result"
    }
   ],
   "source": [
    "# Remove the value at the 2nd index of the list `l`. \n",
    "l=[1,22,3,44,55,6,11,1200]\n",
    "l.pop(2)\n",
    "l"
   ]
  },
  {
   "cell_type": "code",
   "execution_count": 23,
   "id": "23ad2074-aea4-409e-bc69-3a46f4f33b11",
   "metadata": {},
   "outputs": [
    {
     "data": {
      "text/plain": [
       "[1, 22, 3, 44, 55, 6, 11, 1200, 1, 2, 3, 546]"
      ]
     },
     "execution_count": 23,
     "metadata": {},
     "output_type": "execute_result"
    }
   ],
   "source": [
    "#Merge the list `m = [1, 2, 3, 546]` into the list `l`.\n",
    "\n",
    "l=[1,22,3,44,55,6,11,1200]\n",
    "m=[1,2,3,546]\n",
    "l.extend(m)\n",
    "l"
   ]
  },
  {
   "cell_type": "code",
   "execution_count": null,
   "id": "5beb2750-4ecc-4d86-93ff-2ca94e1dcd48",
   "metadata": {},
   "outputs": [],
   "source": []
  }
 ],
 "metadata": {
  "kernelspec": {
   "display_name": "Python 3 (ipykernel)",
   "language": "python",
   "name": "python3"
  },
  "language_info": {
   "codemirror_mode": {
    "name": "ipython",
    "version": 3
   },
   "file_extension": ".py",
   "mimetype": "text/x-python",
   "name": "python",
   "nbconvert_exporter": "python",
   "pygments_lexer": "ipython3",
   "version": "3.12.7"
  }
 },
 "nbformat": 4,
 "nbformat_minor": 5
}
